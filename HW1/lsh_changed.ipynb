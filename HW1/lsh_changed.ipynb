{
  "cells": [
    {
      "cell_type": "markdown",
      "metadata": {
        "pycharm": {
          "name": "#%% md\n"
        },
        "id": "kO0e7PsxiZqU"
      },
      "source": [
        "Load your Dataset"
      ]
    },
    {
      "cell_type": "code",
      "source": [
        "import os"
      ],
      "metadata": {
        "id": "8L7rjrkWikQz"
      },
      "execution_count": 3,
      "outputs": []
    },
    {
      "cell_type": "code",
      "execution_count": 4,
      "metadata": {
        "id": "BUxz2adjFtpt",
        "pycharm": {
          "name": "#%%\n"
        }
      },
      "outputs": [],
      "source": [
        "documents = open(\"dataset.txt\").readlines()"
      ]
    },
    {
      "cell_type": "code",
      "execution_count": 5,
      "metadata": {
        "pycharm": {
          "name": "#%%\n"
        },
        "colab": {
          "base_uri": "https://localhost:8080/"
        },
        "id": "jlL6Kh4DiZqX",
        "outputId": "c477be4d-8822-47f0-f1b6-3789428efd09"
      },
      "outputs": [
        {
          "output_type": "execute_result",
          "data": {
            "text/plain": [
              "['university of AmirKabir',\n",
              " 'The quick brown fox jumps over the lazy dog.',\n",
              " 'The lazy dog is jumped over by a quick brown fox.',\n",
              " 'A fox that is brown in color jumps over a dog that is lazy.',\n",
              " 'A lazy dog has a quick brown fox jumping over it.',\n",
              " 'The quick brown fox leaps over the dog that is lazy.',\n",
              " 'A brown-colored fox jumps over a dog that is lazy.',\n",
              " 'The dog that is lazy is leapt over by a fox that is quick and brown.',\n",
              " 'The quick and brown fox jumps over the dog that is not very active.',\n",
              " 'A quick and brown-colored fox jumps over a dog that is lethargic.',\n",
              " 'The lazy dog has a quick and brown fox that jumps over it.',\n",
              " 'The fox that is brown in color jumps over the lazy dog.',\n",
              " 'A brown-colored fox jumps over a dog that is not very active.',\n",
              " 'A quick brown fox is seen jumping over a lazy dog.',\n",
              " 'The dog that is lazy has a quick and brown fox jumping over it.',\n",
              " 'A quick and brown fox jumps over the dog that is not very energetic.',\n",
              " 'The lazy dog has a fox that is quick and brown jumping over it.',\n",
              " 'The quick and brown-colored fox jumps over the dog that is not very lively.',\n",
              " 'A fox that is brown in color jumps over a dog that is not very active.',\n",
              " 'The lazy dog is leaped over by a quick and brown fox.',\n",
              " 'A quick and brown-colored fox is seen jumping over a dog that is not very energetic.',\n",
              " 'The dog that is lazy has a fox that is quick and brown leaping over it.',\n",
              " 'The quick and brown fox jumps over the dog that is not very energetic.',\n",
              " 'A lazy dog is leapt over by a brown-colored fox that is quick.',\n",
              " 'A brown-colored fox is seen jumping over a dog that is not very active.',\n",
              " 'The quick brown fox is leaping over the lazy dog.',\n",
              " 'A dog that is lazy has a quick and brown-colored fox jumping over it.',\n",
              " 'The fox that is brown in color leaps over the lazy dog.',\n",
              " 'A quick and brown fox is seen jumping over a dog that is not very lively.',\n",
              " 'The lazy dog has a quick and brown fox that is jumping over it.',\n",
              " 'The quick and brown-colored fox is leaping over the dog that is not very active.',\n",
              " 'A fox that is brown in color is seen jumping over a dog that is not very energetic.',\n",
              " 'The dog that is lazy has a quick and brown fox that leaps over it.',\n",
              " 'A quick and brown fox is leaping over the dog that is not very lively.',\n",
              " 'The lazy dog is jumped over by a quick and brown-colored fox.',\n",
              " 'A brown-colored fox jumps over the dog that is not very energetic.',\n",
              " 'The quick and brown fox is seen jumping over a dog that is not very active.',\n",
              " 'The lazy dog has a brown-colored fox that is quick jumping over it.',\n",
              " 'A quick and brown-colored fox jumps over the dog that is not very lively.',\n",
              " 'The fox that is brown in color is leaping over the lazy dog.',\n",
              " 'A dog that is lazy has a quick and brown fox that is seen jumping over it.',\n",
              " 'The quick and brown fox is jumped over by the lazy dog.',\n",
              " 'A brown-colored fox is seen jumping over a dog that is not very lively.',\n",
              " 'The lazy dog has a fox that is quick and brown leaping over it.',\n",
              " 'A quick and brown-colored fox is leaping over the dog that is not',\n",
              " 'The quick brown fox jumps over the sleeping dog.',\n",
              " 'The dog that is asleep is jumped over by a quick brown fox.',\n",
              " 'A fox that is brown in color jumps over a dog that is sleeping.',\n",
              " 'A sleeping dog has a quick brown fox jumping over it.',\n",
              " 'The quick brown fox leaps over the dog that is sleeping.',\n",
              " 'A brown-colored fox jumps over a sleeping dog.']"
            ]
          },
          "metadata": {},
          "execution_count": 5
        }
      ],
      "source": [
        "documents = [x[:-1] for x in documents]\n",
        "documents"
      ]
    },
    {
      "cell_type": "code",
      "execution_count": 6,
      "metadata": {
        "pycharm": {
          "name": "#%%\n"
        },
        "id": "o63HBoM9iZqX"
      },
      "outputs": [],
      "source": [
        "num_minhash = 20\n",
        "band_size = 10\n",
        "K = 5"
      ]
    },
    {
      "cell_type": "markdown",
      "metadata": {
        "pycharm": {
          "name": "#%% md\n"
        },
        "id": "9UTQLhrdiZqX"
      },
      "source": [
        "shingled example of \"university of AmirKabir\" with K = 2"
      ]
    },
    {
      "cell_type": "markdown",
      "metadata": {
        "pycharm": {
          "name": "#%% md\n"
        },
        "id": "CeMFmKvLiZqY"
      },
      "source": [
        "un, ni, iv, ve, er, rs, si, it, ty, y , o, of, f , A, Am, mi, ir, rK, Ka, ab, bi, ir"
      ]
    },
    {
      "cell_type": "code",
      "execution_count": 7,
      "metadata": {
        "id": "SCDSuqxDFtpw",
        "pycharm": {
          "name": "#%%\n"
        }
      },
      "outputs": [],
      "source": [
        "\n",
        "def create_shingle(docs: str, k: int):\n",
        "    \"\"\"\n",
        "    :param docs: Entire documents list\n",
        "    :param k: Shingle size\n",
        "    :return: A set of k-shingles\n",
        "    \"\"\"\n",
        "    shingle_set = []\n",
        "    #TODO-Task1: start your code\n",
        "\n",
        "    # Iterate over each sentence in the collection of documents\n",
        "    for sentence in docs:\n",
        "        # Generate a set of shingles for the current sentence\n",
        "        shingles = set(sentence[i:i+k] for i in range(len(sentence) - k + 1))\n",
        "        # Add the set of shingles to a list of shingle sets\n",
        "        shingle_set.append(shingles)\n",
        "        \n",
        "    #end your code\n",
        "    return shingle_set"
      ]
    },
    {
      "cell_type": "code",
      "execution_count": 8,
      "metadata": {
        "pycharm": {
          "name": "#%%\n"
        },
        "colab": {
          "base_uri": "https://localhost:8080/"
        },
        "id": "eAHRgUqCiZqY",
        "outputId": "857c23e5-06f1-4d7c-8f5b-5d20113faabb"
      },
      "outputs": [
        {
          "output_type": "stream",
          "name": "stdout",
          "text": [
            "{' dog ', 'ver b', 'ed ov', 'The l', 'umped', 'e laz', 'er by', 'y a q', 'og is', 'r by ', ' a qu', 'd ove', 'by a ', 'n fox', 'k bro', ' quic', 'own f', 'over ', ' fox.', 'a qui', 'y dog', 'ped o', 'he la', 'ick b', 'g is ', ' lazy', 'uick ', ' brow', 'wn fo', 'dog i', ' jump', 'ck br', 'brown', 'lazy ', 'is ju', 'zy do', 'rown ', 'azy d', 'mped ', ' is j', ' over', 'quick', 's jum', ' by a', 'jumpe'}\n"
          ]
        }
      ],
      "source": [
        "documents_shingles = create_shingle(documents, k=K)\n",
        "print(documents_shingles[2])"
      ]
    },
    {
      "cell_type": "markdown",
      "metadata": {
        "pycharm": {
          "name": "#%% md\n"
        },
        "id": "mU9VhrASiZqY"
      },
      "source": [
        "dont change this part just run it"
      ]
    },
    {
      "cell_type": "code",
      "execution_count": 9,
      "metadata": {
        "pycharm": {
          "name": "#%%\n"
        },
        "colab": {
          "base_uri": "https://localhost:8080/"
        },
        "id": "rYzmwc2hiZqY",
        "outputId": "64eaf4e9-6aa2-4491-f793-0027511e7b2b"
      },
      "outputs": [
        {
          "output_type": "stream",
          "name": "stdout",
          "text": [
            "Test 1 Successful!\n"
          ]
        }
      ],
      "source": [
        "res1 = {'of Am', ' of A', 'ty of', 'f Ami', 'irKab', ' Amir', 'unive', 'mirKa', 'y of ', 'ivers', 'rsity', 'sity ',\n",
        "        'versi', 'ersit', 'ity o', 'rKabi', 'niver', 'Kabir', 'AmirK'}\n",
        "assert res1 == documents_shingles[0], \"Test 1 Failed!\"\n",
        "print(\"Test 1 Successful!\")"
      ]
    },
    {
      "cell_type": "markdown",
      "metadata": {
        "id": "W6_n4b6KFtpx",
        "pycharm": {
          "name": "#%% md\n"
        }
      },
      "source": [
        "Now that we have our three shingles we create a shingle vocabulary by create a `union` between all three sets."
      ]
    },
    {
      "cell_type": "code",
      "execution_count": 10,
      "metadata": {
        "id": "OdFH_oC0Ftpy",
        "outputId": "feddbcc4-0266-4b22-fbd1-88a764cb6093",
        "pycharm": {
          "name": "#%%\n"
        },
        "colab": {
          "base_uri": "https://localhost:8080/"
        }
      },
      "outputs": [
        {
          "output_type": "stream",
          "name": "stdout",
          "text": [
            "{' Amir', ' asle', 'own i', ' ener', 'erget', 'Kabir', ' leth', 'og th', 'of Am', 'g tha', 'energ', 'activ', 'own f', 'letha', 'own j', 'a qui', 'y dog', 'r a d', 's asl', 'ivers', 'at ju', ' brow', 'leapt', 'y a f', 'y liv', 'is as', 'ng do', 'niver', 'y the', 'is ju', 'umpin', 'lor l', 'er a ', 'ing o', 'by th', 'g ove', 'jumps', 'at le', 'is qu', 'k and', 'is le', 'rgeti', ' is s', 'umped', 'er by', 'ox is', 'A dog', 'ep is', 'd ove', 'n fox', 'rown-', ' fox.', 'd fox', 'leape', 'ver i', 'he la', 'rown.', 'ery e', ' lazy', 'fox j', 'x lea', 'he fo', 's see', 'own l', 'ctive', 'ing d', 'a dog', 'is la', 'ver t', 'er th', 'e fox', ' is n', ' is a', 'ver a', 'the s', ' over', 'og ha', 'A sle', 'ty of', 'ver b', 'g has', 'has a', 'x is ', 'very ', 'AmirK', 'er it', 'r by ', 'fox l', ' and ', 'mps o', ' has ', 't is ', 'ping ', 'x tha', 'ethar', 'fox t', 'not v', 'tive.', 'rgic.', 'eepin', 'r jum', 'a fox', 'zy do', 'livel', 'wn-co', 'eapin', 'azy h', 'rKabi', ' colo', ' a fo', ' is j', 'A laz', 'zy is', 'a sle', 'r lea', 'at is', 'n col', 'eaps ', ' live', 'leepi', 'og is', ' a br', 'y act', 'The q', 'r is ', ' not ', 's sle', ' a qu', 'sity ', 'k bro', 'over ', 'aping', 'ck an', 'e sle', 'a bro', 'he do', 'ity o', 'ox th', 'wn in', 'k jum', ' dog.', 'ry en', 'lor i', ' is b', 'wn fo', 'ry ac', 'dog i', 'eep i', 'brown', 'he qu', 'the l', 'azy d', 'versi', 'rsity', 'nerge', 'mped ', 'ersit', 'y is ', ' is l', 'leaps', 'e dog', 'r it.', 'vely.', 'The l', 'f Ami', 'r a s', 'fox i', 'zy ha', ' that', 'ively', 'hat i', ' fox ', 's not', 'The d', ' in c', 't jum', 'seen ', 'lored', 'aps o', ' the ', ' is q', 'The f', 'unive', ' slee', 'ery l', 'in co', 'azy i', 'g dog', 'and b', 'hat j', 'etic.', 'that ', 'y a b', 'e laz', 'hat l', 's qui', 'is br', ' of A', 'n lea', 'y has', 'wn ju', 'the d', 'wn le', 't ver', 'g is ', 'olore', 's bro', 'eaped', 'y of ', ' a la', 'A qui', ' leap', ' jump', 'apt o', 'own-c', 't lea', 's a b', 'nd br', 'is se', 'rown ', 'eapt ', 'aslee', 'uick.', 'mping', 'lor j', '-colo', 'n jum', 'or is', 'r the', ' very', 'pt ov', ' by a', 'jumpe', 'ox le', ' dog ', 's laz', ' by t', 'color', 'by a ', 'dog h', 'A bro', 'getic', 'n-col', 'ped o', 's ove', 'ick b', 'd bro', ' a do', 'red f', 't ove', ' acti', 'lazy.', 'leep ', 'ps ov', 'lazy ', 'x jum', 'a laz', ' seen', 'quick', 's a f', 'argic', 's lea', 'ck ju', 'r a l', 'en ju', 'is sl', 'ed fo', 'he sl', 'y a q', 'een j', 'ed ov', 'aped ', 'is no', 'or le', 's a q', 'y ene', 'umps ', ' a sl', ' quic', 'ery a', 'dog t', 'uick ', 'jumpi', 'hargi', 'e qui', 'ng ov', 'eping', 'ck br', 'tharg', 'ick a', 'leapi', 'ored ', 'n in ', 'irKab', 'sleep', 'ot ve', 'ry li', 'olor ', 'or ju', 'A fox', 'as a ', 'p is ', 'ping.', 's let', 'mirKa', 's jum', 'ox ju', 'ick j'}\n"
          ]
        }
      ],
      "source": [
        "vocab = set()\n",
        "for shingle in documents_shingles:\n",
        "    vocab.update(shingle)\n",
        "\n",
        "print(vocab)"
      ]
    },
    {
      "cell_type": "code",
      "execution_count": 11,
      "metadata": {
        "pycharm": {
          "name": "#%%\n"
        },
        "id": "a7YM6ej0iZqZ"
      },
      "outputs": [],
      "source": [
        "import numpy as np\n",
        "def create_sparse_vectors(documents_shingles, vocab):\n",
        "    \"\"\"\n",
        "\n",
        "    :param documents_list:\n",
        "    :param vocab: Union of all shingles sets (type: List)\n",
        "    :return: sparse vector matrix: on-hot ecoded of all sentences\n",
        "    desired result for two sentences could be:\n",
        "    [\n",
        "     [0, 0, 1, 1, 0, 0, 1, 0, 1, 0, 0, 0, 1, 1, 1, 0, 1, 0, 1, 0, 0, 0, 0, 0, 0, 0],\n",
        "     [0, 1, 0, 1, 0, 1, 0, 0, 0, 0, 1, 1, 1, 0, 0, 0, 1, 0, 1, 0, 0, 0, 0, 1, 0, 0]\n",
        "    ]\n",
        "    \"\"\"\n",
        "    sparse_vector_matrix = []\n",
        "    #TODO-Task2: start your code\n",
        "    \n",
        "    # Create a dictionary to map each shingle in the vocabulary to a unique index\n",
        "    vocab_d = {}\n",
        "    for i, shingle in enumerate(list(vocab)):\n",
        "        vocab_d[shingle] = i\n",
        "        \n",
        "    # Iterate over each set of shingles in the document shingles list\n",
        "    for shingle_set in documents_shingles:\n",
        "        # Create a sparse vector with a length equal to the size of the vocabulary\n",
        "        vec = np.zeros(len(vocab))\n",
        "        # Iterate over each shingle in the current shingle set\n",
        "        for shingle in shingle_set:\n",
        "            # Look up the index of the current shingle in the vocabulary dictionary\n",
        "            idx = vocab_d[shingle]\n",
        "            # Set the corresponding entry in the sparse vector to 1\n",
        "            vec[idx] = 1\n",
        "        # Append the sparse vector to a list of sparse vectors\n",
        "        sparse_vector_matrix.append(vec)\n",
        "\n",
        "    #end your code\n",
        "    return np.array(sparse_vector_matrix)"
      ]
    },
    {
      "cell_type": "code",
      "execution_count": 12,
      "metadata": {
        "pycharm": {
          "name": "#%%\n"
        },
        "colab": {
          "base_uri": "https://localhost:8080/"
        },
        "id": "-QzQQacWiZqZ",
        "outputId": "342b08c5-803f-4e8d-a987-95f95e9e8973"
      },
      "outputs": [
        {
          "output_type": "execute_result",
          "data": {
            "text/plain": [
              "array([[1., 0., 0., ..., 0., 0., 0.],\n",
              "       [0., 0., 0., ..., 0., 1., 0.],\n",
              "       [0., 0., 0., ..., 1., 0., 0.],\n",
              "       ...,\n",
              "       [0., 0., 0., ..., 0., 1., 0.],\n",
              "       [0., 0., 0., ..., 0., 0., 0.],\n",
              "       [0., 0., 0., ..., 0., 1., 0.]])"
            ]
          },
          "metadata": {},
          "execution_count": 12
        }
      ],
      "source": [
        "input_matrix = create_sparse_vectors(documents_shingles, vocab)\n",
        "input_matrix"
      ]
    },
    {
      "cell_type": "markdown",
      "metadata": {
        "id": "d_En8YoMFtpz",
        "pycharm": {
          "name": "#%% md\n"
        }
      },
      "source": [
        "So we now have one-hot encoded sparse vectors we can move onto *minhashing*.\n",
        "\n",
        "## Minhashing"
      ]
    },
    {
      "cell_type": "code",
      "execution_count": 13,
      "metadata": {
        "pycharm": {
          "name": "#%%\n"
        },
        "id": "Y7LB6ISYiZqZ"
      },
      "outputs": [],
      "source": [
        "def create_hash_fucntion(size: int):\n",
        "    \"\"\"\n",
        "    Build a Permutation p (hash function) with mentioned size\n",
        "\n",
        "    :param size: Length of hash function\n",
        "    :return: A list of hash of length size\n",
        "    desired result could be:\n",
        "    [\n",
        "     [5,8,4,1,2,...,78]\n",
        "    ]\n",
        "    \"\"\"\n",
        "    hash_func = []\n",
        "    #TODO-Task3: start your code\n",
        "\n",
        "    # Generate a random permutation of integers from 1 to `size`\n",
        "    permutation = np.random.permutation(size) + 1\n",
        "    \n",
        "    # Create a list of permutation as hash_function\n",
        "    hash_func = list(permutation)\n",
        "\n",
        "    #end your code\n",
        "\n",
        "    return hash_func\n"
      ]
    },
    {
      "cell_type": "code",
      "execution_count": 14,
      "metadata": {
        "pycharm": {
          "name": "#%%\n"
        },
        "id": "u_tYVUsjiZqa"
      },
      "outputs": [],
      "source": [
        "def create_minhash_functions(num_minhash: int, vocab_size: int):\n",
        "    \"\"\"\n",
        "    :param num_minhash:\n",
        "    :param vocab_size:\n",
        "    :return: list of minhash functions\n",
        "    \"\"\"\n",
        "    minhashes = []\n",
        "    for i in range(num_minhash):\n",
        "        minhashes.append(create_hash_fucntion(vocab_size))\n",
        "\n",
        "    return np.array(minhashes)"
      ]
    },
    {
      "cell_type": "code",
      "execution_count": 15,
      "metadata": {
        "pycharm": {
          "name": "#%%\n"
        },
        "colab": {
          "base_uri": "https://localhost:8080/"
        },
        "id": "2sVYhx-qiZqa",
        "outputId": "60310bbf-5dc5-4320-c5b8-d7747fec143f"
      },
      "outputs": [
        {
          "output_type": "execute_result",
          "data": {
            "text/plain": [
              "array([[182, 146, 245, ..., 155, 121, 282],\n",
              "       [245,  72,  36, ..., 178,  81, 233],\n",
              "       [216, 279,  82, ..., 114, 183, 295],\n",
              "       ...,\n",
              "       [106, 137, 199, ..., 180,  95,   9],\n",
              "       [294,  26, 169, ...,  92, 283, 266],\n",
              "       [275, 278,  57, ..., 169, 161, 152]])"
            ]
          },
          "metadata": {},
          "execution_count": 15
        }
      ],
      "source": [
        "min_hashes = create_minhash_functions(num_minhash, len(vocab))\n",
        "min_hashes"
      ]
    },
    {
      "cell_type": "code",
      "execution_count": null,
      "outputs": [],
      "source": [
        "# # don't run this cell.\n",
        "# from IPython.display import Image\n",
        "# Image(filename='lsh.png')"
      ],
      "metadata": {
        "pycharm": {
          "name": "#%%\n"
        },
        "id": "GpsoUf8KiZqa"
      }
    },
    {
      "cell_type": "code",
      "source": [
        "def create_signature_matrix(minhash_functions, sparse_vector_matrix):\n",
        "    \"\"\"\n",
        "\n",
        "    :param minhash_functions:\n",
        "    :param sparse_vector_matrix:\n",
        "    :return: signature matrix\n",
        "    \"\"\"\n",
        "    M = []\n",
        "    \n",
        "    #TODO-Task4: start your code\n",
        "    for vector in sparse_vector_matrix:\n",
        "      \n",
        "      # Get index locations of every 1 value in vector\n",
        "      idx = np.nonzero(vector)[0].tolist()\n",
        "      \n",
        "      # Use index locations to pull only positive positions in minhash\n",
        "      shingles = minhash_functions[:, idx]\n",
        "      \n",
        "      # Find minimum value in each hash vector\n",
        "      signature = np.min(shingles, axis=1)\n",
        "      \n",
        "      # Append signature to M\n",
        "      M.append(signature.tolist())\n",
        "\n",
        "    #end your code\n",
        "\n",
        "    return M"
      ],
      "metadata": {
        "id": "hx4NA5Bi-ZHI"
      },
      "execution_count": 17,
      "outputs": []
    },
    {
      "cell_type": "code",
      "source": [
        "signature_matrix = create_signature_matrix(min_hashes, input_matrix)\n",
        "signature_matrix"
      ],
      "metadata": {
        "colab": {
          "base_uri": "https://localhost:8080/"
        },
        "id": "x4YT3Zx7-bMo",
        "outputId": "ed1c9c72-108d-4402-da9b-945c132e8424"
      },
      "execution_count": 18,
      "outputs": [
        {
          "output_type": "execute_result",
          "data": {
            "text/plain": [
              "[[13, 8, 32, 32, 1, 7, 6, 24, 40, 19, 2, 3, 16, 8, 12, 9, 27, 18, 1, 16],\n",
              " [4, 7, 6, 2, 9, 15, 11, 17, 1, 1, 18, 4, 1, 3, 13, 5, 13, 2, 10, 6],\n",
              " [7, 7, 9, 8, 2, 15, 10, 17, 6, 1, 18, 4, 1, 3, 20, 2, 2, 2, 9, 9],\n",
              " [1, 1, 1, 3, 6, 1, 11, 17, 5, 1, 6, 2, 7, 4, 2, 7, 5, 2, 14, 2],\n",
              " [7, 7, 8, 2, 26, 9, 9, 10, 6, 1, 7, 4, 1, 3, 8, 2, 10, 2, 8, 5],\n",
              " [7, 3, 2, 3, 6, 1, 15, 15, 1, 1, 4, 2, 1, 3, 4, 5, 7, 2, 10, 3],\n",
              " [12, 4, 1, 2, 6, 1, 11, 16, 5, 3, 6, 2, 10, 7, 4, 13, 7, 2, 14, 3],\n",
              " [1, 4, 2, 3, 5, 1, 5, 5, 4, 14, 6, 4, 9, 2, 4, 10, 3, 2, 32, 3],\n",
              " [11, 4, 2, 2, 6, 1, 11, 2, 1, 1, 5, 4, 3, 2, 3, 1, 6, 1, 2, 3],\n",
              " [12, 4, 1, 2, 6, 1, 4, 13, 4, 3, 6, 4, 10, 2, 4, 4, 7, 3, 14, 3],\n",
              " [1, 7, 6, 4, 8, 6, 11, 13, 4, 1, 7, 1, 2, 2, 8, 2, 12, 2, 8, 5],\n",
              " [1, 1, 1, 3, 4, 2, 11, 17, 1, 1, 19, 4, 4, 4, 2, 7, 5, 2, 31, 2],\n",
              " [12, 4, 1, 2, 6, 1, 11, 2, 5, 3, 5, 4, 10, 10, 3, 1, 6, 1, 2, 3],\n",
              " [2, 7, 4, 9, 18, 15, 9, 10, 6, 1, 1, 4, 1, 3, 21, 5, 10, 2, 3, 9],\n",
              " [18, 4, 2, 2, 6, 1, 3, 10, 4, 1, 6, 4, 3, 2, 4, 2, 7, 2, 4, 3],\n",
              " [12, 4, 2, 2, 6, 1, 11, 2, 1, 1, 5, 4, 3, 2, 4, 13, 7, 3, 2, 3],\n",
              " [1, 4, 5, 3, 5, 9, 9, 10, 4, 1, 7, 4, 6, 2, 4, 10, 7, 2, 8, 3],\n",
              " [11, 4, 1, 2, 6, 1, 11, 1, 1, 3, 5, 4, 10, 2, 4, 13, 7, 3, 2, 3],\n",
              " [1, 1, 1, 3, 6, 1, 11, 2, 5, 1, 5, 4, 7, 4, 2, 1, 5, 1, 2, 2],\n",
              " [8, 7, 9, 8, 11, 10, 1, 13, 4, 1, 8, 4, 3, 2, 17, 2, 2, 2, 9, 9],\n",
              " [2, 4, 1, 3, 6, 1, 9, 2, 4, 4, 5, 4, 10, 2, 4, 15, 7, 4, 2, 3],\n",
              " [1, 4, 2, 3, 5, 1, 2, 7, 4, 1, 6, 4, 10, 2, 4, 10, 7, 2, 4, 3],\n",
              " [11, 4, 2, 2, 6, 1, 11, 2, 1, 1, 5, 4, 3, 2, 4, 13, 7, 3, 2, 3],\n",
              " [1, 4, 1, 3, 5, 18, 28, 5, 5, 14, 10, 4, 9, 3, 4, 6, 1, 2, 11, 1],\n",
              " [2, 4, 1, 3, 6, 1, 9, 2, 5, 5, 5, 4, 10, 10, 3, 1, 6, 1, 2, 3],\n",
              " [2, 7, 9, 9, 11, 13, 2, 7, 1, 1, 18, 4, 1, 3, 10, 5, 21, 2, 3, 9],\n",
              " [18, 4, 1, 2, 6, 1, 3, 10, 4, 5, 6, 4, 10, 2, 4, 2, 7, 2, 4, 3],\n",
              " [1, 1, 1, 3, 4, 2, 23, 19, 1, 1, 4, 4, 4, 4, 2, 3, 5, 2, 6, 3],\n",
              " [2, 4, 2, 3, 6, 1, 9, 1, 3, 1, 5, 4, 3, 2, 4, 15, 7, 7, 2, 3],\n",
              " [1, 4, 5, 3, 11, 9, 9, 10, 4, 1, 7, 4, 3, 2, 4, 2, 7, 2, 8, 3],\n",
              " [2, 4, 1, 3, 6, 1, 2, 2, 1, 5, 5, 4, 10, 2, 3, 1, 6, 1, 2, 3],\n",
              " [1, 1, 1, 3, 6, 1, 9, 2, 5, 1, 5, 4, 7, 4, 2, 7, 5, 8, 2, 3],\n",
              " [1, 3, 2, 3, 6, 1, 3, 4, 2, 1, 4, 4, 3, 2, 4, 2, 7, 2, 4, 3],\n",
              " [2, 4, 2, 3, 6, 1, 2, 1, 1, 1, 5, 4, 3, 2, 4, 14, 7, 7, 2, 3],\n",
              " [24, 7, 1, 6, 2, 10, 10, 13, 4, 7, 10, 4, 5, 2, 16, 2, 2, 2, 9, 9],\n",
              " [12, 4, 1, 2, 6, 1, 11, 2, 1, 3, 5, 4, 10, 10, 4, 13, 7, 3, 2, 3],\n",
              " [2, 4, 2, 3, 6, 1, 9, 2, 4, 1, 5, 4, 3, 2, 3, 1, 6, 1, 2, 3],\n",
              " [1, 4, 1, 3, 3, 9, 9, 10, 5, 5, 7, 4, 10, 3, 4, 6, 1, 2, 8, 1],\n",
              " [12, 4, 1, 2, 6, 1, 11, 1, 1, 3, 5, 4, 10, 2, 4, 13, 7, 3, 2, 3],\n",
              " [1, 1, 1, 3, 4, 2, 2, 7, 1, 1, 19, 4, 4, 4, 2, 7, 5, 2, 15, 3],\n",
              " [1, 4, 2, 3, 6, 1, 3, 10, 4, 1, 6, 4, 3, 2, 4, 2, 7, 2, 4, 3],\n",
              " [2, 7, 9, 9, 2, 5, 7, 13, 4, 1, 18, 4, 3, 2, 1, 17, 15, 2, 3, 9],\n",
              " [2, 4, 1, 3, 6, 1, 9, 1, 3, 5, 5, 4, 10, 10, 4, 15, 7, 4, 2, 3],\n",
              " [1, 4, 5, 3, 5, 9, 2, 7, 4, 1, 7, 4, 10, 2, 4, 10, 7, 2, 8, 3],\n",
              " [2, 4, 1, 3, 6, 1, 2, 7, 1, 5, 5, 4, 10, 2, 4, 14, 7, 4, 3, 3],\n",
              " [6, 7, 6, 1, 9, 15, 11, 17, 1, 1, 18, 4, 1, 3, 7, 5, 13, 3, 10, 6],\n",
              " [7, 4, 2, 3, 2, 1, 10, 3, 5, 1, 6, 4, 1, 1, 4, 2, 7, 12, 5, 3],\n",
              " [1, 1, 1, 3, 6, 1, 8, 6, 5, 1, 6, 4, 7, 4, 2, 7, 5, 3, 14, 2],\n",
              " [6, 7, 8, 1, 26, 9, 9, 10, 6, 1, 7, 4, 1, 3, 7, 2, 10, 13, 8, 5],\n",
              " [5, 3, 2, 3, 6, 1, 8, 6, 1, 1, 4, 4, 1, 3, 4, 5, 7, 13, 10, 3],\n",
              " [6, 7, 1, 1, 9, 18, 11, 16, 6, 3, 10, 4, 15, 10, 7, 13, 13, 3, 27, 6]]"
            ]
          },
          "metadata": {},
          "execution_count": 18
        }
      ]
    },
    {
      "cell_type": "code",
      "execution_count": 19,
      "metadata": {
        "id": "ddWrF48MFtp3",
        "pycharm": {
          "name": "#%%\n"
        }
      },
      "outputs": [],
      "source": [
        "def jaccard(a, b):\n",
        "    \"\"\"\n",
        "\n",
        "    :param a:\n",
        "    :param b:\n",
        "    :return: Number of common values in a and b\n",
        "    \"\"\"\n",
        "    a = set(a)\n",
        "    b = set(b)\n",
        "    result = 0\n",
        "    #TODO-Task5: start your code\n",
        "    \n",
        "    # Jaccard similarity \n",
        "    result=len(a.intersection(b)) / len(a.union(b))\n",
        "\n",
        "    #end your code\n",
        "    return result"
      ]
    },
    {
      "cell_type": "code",
      "execution_count": 20,
      "metadata": {
        "pycharm": {
          "name": "#%%\n"
        },
        "colab": {
          "base_uri": "https://localhost:8080/"
        },
        "id": "ia6vz9MHiZqb",
        "outputId": "adf9cbce-9a5a-478b-cfb2-4272ec13c5ea"
      },
      "outputs": [
        {
          "output_type": "stream",
          "name": "stdout",
          "text": [
            "task5 successful\n"
          ]
        }
      ],
      "source": [
        "t1 = {'a', 'b', 'c'}\n",
        "t2 = {'a', 'b', 'd'}\n",
        "assert jaccard(t1, t2) == 0.5, \"Task5 faild\"\n",
        "print(\"task5 successful\")"
      ]
    },
    {
      "cell_type": "code",
      "execution_count": 21,
      "metadata": {
        "id": "ktlAtq2nFtp3",
        "outputId": "a57a6e54-fba3-4f0b-b3ff-e09fd019a3c0",
        "pycharm": {
          "name": "#%%\n"
        },
        "colab": {
          "base_uri": "https://localhost:8080/"
        }
      },
      "outputs": [
        {
          "output_type": "execute_result",
          "data": {
            "text/plain": [
              "0.6875"
            ]
          },
          "metadata": {},
          "execution_count": 21
        }
      ],
      "source": [
        "jaccard(signature_matrix[2], signature_matrix[1])"
      ]
    },
    {
      "cell_type": "code",
      "execution_count": 22,
      "metadata": {
        "id": "vWYtKjL_Ftp4",
        "pycharm": {
          "name": "#%%\n"
        }
      },
      "outputs": [],
      "source": [
        "def create_bands(signatures, band_size):\n",
        "    bands = []\n",
        "    for signature in signatures:\n",
        "        r = len(signature) // band_size\n",
        "\n",
        "        sub_bands = []\n",
        "        for i in range(0, len(signature), r):\n",
        "            sub_bands.append(signature[i: i + r])\n",
        "        bands.append(sub_bands)\n",
        "    return bands"
      ]
    },
    {
      "cell_type": "code",
      "execution_count": 23,
      "metadata": {
        "pycharm": {
          "name": "#%%\n"
        },
        "colab": {
          "base_uri": "https://localhost:8080/"
        },
        "id": "-DrtqoVziZqb",
        "outputId": "02e3aa39-6e87-4fdf-c641-39e7d54793ff"
      },
      "outputs": [
        {
          "output_type": "execute_result",
          "data": {
            "text/plain": [
              "[[[13, 8],\n",
              "  [32, 32],\n",
              "  [1, 7],\n",
              "  [6, 24],\n",
              "  [40, 19],\n",
              "  [2, 3],\n",
              "  [16, 8],\n",
              "  [12, 9],\n",
              "  [27, 18],\n",
              "  [1, 16]],\n",
              " [[4, 7],\n",
              "  [6, 2],\n",
              "  [9, 15],\n",
              "  [11, 17],\n",
              "  [1, 1],\n",
              "  [18, 4],\n",
              "  [1, 3],\n",
              "  [13, 5],\n",
              "  [13, 2],\n",
              "  [10, 6]],\n",
              " [[7, 7],\n",
              "  [9, 8],\n",
              "  [2, 15],\n",
              "  [10, 17],\n",
              "  [6, 1],\n",
              "  [18, 4],\n",
              "  [1, 3],\n",
              "  [20, 2],\n",
              "  [2, 2],\n",
              "  [9, 9]],\n",
              " [[1, 1],\n",
              "  [1, 3],\n",
              "  [6, 1],\n",
              "  [11, 17],\n",
              "  [5, 1],\n",
              "  [6, 2],\n",
              "  [7, 4],\n",
              "  [2, 7],\n",
              "  [5, 2],\n",
              "  [14, 2]],\n",
              " [[7, 7],\n",
              "  [8, 2],\n",
              "  [26, 9],\n",
              "  [9, 10],\n",
              "  [6, 1],\n",
              "  [7, 4],\n",
              "  [1, 3],\n",
              "  [8, 2],\n",
              "  [10, 2],\n",
              "  [8, 5]],\n",
              " [[7, 3],\n",
              "  [2, 3],\n",
              "  [6, 1],\n",
              "  [15, 15],\n",
              "  [1, 1],\n",
              "  [4, 2],\n",
              "  [1, 3],\n",
              "  [4, 5],\n",
              "  [7, 2],\n",
              "  [10, 3]],\n",
              " [[12, 4],\n",
              "  [1, 2],\n",
              "  [6, 1],\n",
              "  [11, 16],\n",
              "  [5, 3],\n",
              "  [6, 2],\n",
              "  [10, 7],\n",
              "  [4, 13],\n",
              "  [7, 2],\n",
              "  [14, 3]],\n",
              " [[1, 4],\n",
              "  [2, 3],\n",
              "  [5, 1],\n",
              "  [5, 5],\n",
              "  [4, 14],\n",
              "  [6, 4],\n",
              "  [9, 2],\n",
              "  [4, 10],\n",
              "  [3, 2],\n",
              "  [32, 3]],\n",
              " [[11, 4],\n",
              "  [2, 2],\n",
              "  [6, 1],\n",
              "  [11, 2],\n",
              "  [1, 1],\n",
              "  [5, 4],\n",
              "  [3, 2],\n",
              "  [3, 1],\n",
              "  [6, 1],\n",
              "  [2, 3]],\n",
              " [[12, 4],\n",
              "  [1, 2],\n",
              "  [6, 1],\n",
              "  [4, 13],\n",
              "  [4, 3],\n",
              "  [6, 4],\n",
              "  [10, 2],\n",
              "  [4, 4],\n",
              "  [7, 3],\n",
              "  [14, 3]],\n",
              " [[1, 7],\n",
              "  [6, 4],\n",
              "  [8, 6],\n",
              "  [11, 13],\n",
              "  [4, 1],\n",
              "  [7, 1],\n",
              "  [2, 2],\n",
              "  [8, 2],\n",
              "  [12, 2],\n",
              "  [8, 5]],\n",
              " [[1, 1],\n",
              "  [1, 3],\n",
              "  [4, 2],\n",
              "  [11, 17],\n",
              "  [1, 1],\n",
              "  [19, 4],\n",
              "  [4, 4],\n",
              "  [2, 7],\n",
              "  [5, 2],\n",
              "  [31, 2]],\n",
              " [[12, 4],\n",
              "  [1, 2],\n",
              "  [6, 1],\n",
              "  [11, 2],\n",
              "  [5, 3],\n",
              "  [5, 4],\n",
              "  [10, 10],\n",
              "  [3, 1],\n",
              "  [6, 1],\n",
              "  [2, 3]],\n",
              " [[2, 7],\n",
              "  [4, 9],\n",
              "  [18, 15],\n",
              "  [9, 10],\n",
              "  [6, 1],\n",
              "  [1, 4],\n",
              "  [1, 3],\n",
              "  [21, 5],\n",
              "  [10, 2],\n",
              "  [3, 9]],\n",
              " [[18, 4],\n",
              "  [2, 2],\n",
              "  [6, 1],\n",
              "  [3, 10],\n",
              "  [4, 1],\n",
              "  [6, 4],\n",
              "  [3, 2],\n",
              "  [4, 2],\n",
              "  [7, 2],\n",
              "  [4, 3]],\n",
              " [[12, 4],\n",
              "  [2, 2],\n",
              "  [6, 1],\n",
              "  [11, 2],\n",
              "  [1, 1],\n",
              "  [5, 4],\n",
              "  [3, 2],\n",
              "  [4, 13],\n",
              "  [7, 3],\n",
              "  [2, 3]],\n",
              " [[1, 4],\n",
              "  [5, 3],\n",
              "  [5, 9],\n",
              "  [9, 10],\n",
              "  [4, 1],\n",
              "  [7, 4],\n",
              "  [6, 2],\n",
              "  [4, 10],\n",
              "  [7, 2],\n",
              "  [8, 3]],\n",
              " [[11, 4],\n",
              "  [1, 2],\n",
              "  [6, 1],\n",
              "  [11, 1],\n",
              "  [1, 3],\n",
              "  [5, 4],\n",
              "  [10, 2],\n",
              "  [4, 13],\n",
              "  [7, 3],\n",
              "  [2, 3]],\n",
              " [[1, 1],\n",
              "  [1, 3],\n",
              "  [6, 1],\n",
              "  [11, 2],\n",
              "  [5, 1],\n",
              "  [5, 4],\n",
              "  [7, 4],\n",
              "  [2, 1],\n",
              "  [5, 1],\n",
              "  [2, 2]],\n",
              " [[8, 7],\n",
              "  [9, 8],\n",
              "  [11, 10],\n",
              "  [1, 13],\n",
              "  [4, 1],\n",
              "  [8, 4],\n",
              "  [3, 2],\n",
              "  [17, 2],\n",
              "  [2, 2],\n",
              "  [9, 9]],\n",
              " [[2, 4],\n",
              "  [1, 3],\n",
              "  [6, 1],\n",
              "  [9, 2],\n",
              "  [4, 4],\n",
              "  [5, 4],\n",
              "  [10, 2],\n",
              "  [4, 15],\n",
              "  [7, 4],\n",
              "  [2, 3]],\n",
              " [[1, 4],\n",
              "  [2, 3],\n",
              "  [5, 1],\n",
              "  [2, 7],\n",
              "  [4, 1],\n",
              "  [6, 4],\n",
              "  [10, 2],\n",
              "  [4, 10],\n",
              "  [7, 2],\n",
              "  [4, 3]],\n",
              " [[11, 4],\n",
              "  [2, 2],\n",
              "  [6, 1],\n",
              "  [11, 2],\n",
              "  [1, 1],\n",
              "  [5, 4],\n",
              "  [3, 2],\n",
              "  [4, 13],\n",
              "  [7, 3],\n",
              "  [2, 3]],\n",
              " [[1, 4],\n",
              "  [1, 3],\n",
              "  [5, 18],\n",
              "  [28, 5],\n",
              "  [5, 14],\n",
              "  [10, 4],\n",
              "  [9, 3],\n",
              "  [4, 6],\n",
              "  [1, 2],\n",
              "  [11, 1]],\n",
              " [[2, 4],\n",
              "  [1, 3],\n",
              "  [6, 1],\n",
              "  [9, 2],\n",
              "  [5, 5],\n",
              "  [5, 4],\n",
              "  [10, 10],\n",
              "  [3, 1],\n",
              "  [6, 1],\n",
              "  [2, 3]],\n",
              " [[2, 7],\n",
              "  [9, 9],\n",
              "  [11, 13],\n",
              "  [2, 7],\n",
              "  [1, 1],\n",
              "  [18, 4],\n",
              "  [1, 3],\n",
              "  [10, 5],\n",
              "  [21, 2],\n",
              "  [3, 9]],\n",
              " [[18, 4],\n",
              "  [1, 2],\n",
              "  [6, 1],\n",
              "  [3, 10],\n",
              "  [4, 5],\n",
              "  [6, 4],\n",
              "  [10, 2],\n",
              "  [4, 2],\n",
              "  [7, 2],\n",
              "  [4, 3]],\n",
              " [[1, 1],\n",
              "  [1, 3],\n",
              "  [4, 2],\n",
              "  [23, 19],\n",
              "  [1, 1],\n",
              "  [4, 4],\n",
              "  [4, 4],\n",
              "  [2, 3],\n",
              "  [5, 2],\n",
              "  [6, 3]],\n",
              " [[2, 4],\n",
              "  [2, 3],\n",
              "  [6, 1],\n",
              "  [9, 1],\n",
              "  [3, 1],\n",
              "  [5, 4],\n",
              "  [3, 2],\n",
              "  [4, 15],\n",
              "  [7, 7],\n",
              "  [2, 3]],\n",
              " [[1, 4],\n",
              "  [5, 3],\n",
              "  [11, 9],\n",
              "  [9, 10],\n",
              "  [4, 1],\n",
              "  [7, 4],\n",
              "  [3, 2],\n",
              "  [4, 2],\n",
              "  [7, 2],\n",
              "  [8, 3]],\n",
              " [[2, 4],\n",
              "  [1, 3],\n",
              "  [6, 1],\n",
              "  [2, 2],\n",
              "  [1, 5],\n",
              "  [5, 4],\n",
              "  [10, 2],\n",
              "  [3, 1],\n",
              "  [6, 1],\n",
              "  [2, 3]],\n",
              " [[1, 1],\n",
              "  [1, 3],\n",
              "  [6, 1],\n",
              "  [9, 2],\n",
              "  [5, 1],\n",
              "  [5, 4],\n",
              "  [7, 4],\n",
              "  [2, 7],\n",
              "  [5, 8],\n",
              "  [2, 3]],\n",
              " [[1, 3],\n",
              "  [2, 3],\n",
              "  [6, 1],\n",
              "  [3, 4],\n",
              "  [2, 1],\n",
              "  [4, 4],\n",
              "  [3, 2],\n",
              "  [4, 2],\n",
              "  [7, 2],\n",
              "  [4, 3]],\n",
              " [[2, 4],\n",
              "  [2, 3],\n",
              "  [6, 1],\n",
              "  [2, 1],\n",
              "  [1, 1],\n",
              "  [5, 4],\n",
              "  [3, 2],\n",
              "  [4, 14],\n",
              "  [7, 7],\n",
              "  [2, 3]],\n",
              " [[24, 7],\n",
              "  [1, 6],\n",
              "  [2, 10],\n",
              "  [10, 13],\n",
              "  [4, 7],\n",
              "  [10, 4],\n",
              "  [5, 2],\n",
              "  [16, 2],\n",
              "  [2, 2],\n",
              "  [9, 9]],\n",
              " [[12, 4],\n",
              "  [1, 2],\n",
              "  [6, 1],\n",
              "  [11, 2],\n",
              "  [1, 3],\n",
              "  [5, 4],\n",
              "  [10, 10],\n",
              "  [4, 13],\n",
              "  [7, 3],\n",
              "  [2, 3]],\n",
              " [[2, 4],\n",
              "  [2, 3],\n",
              "  [6, 1],\n",
              "  [9, 2],\n",
              "  [4, 1],\n",
              "  [5, 4],\n",
              "  [3, 2],\n",
              "  [3, 1],\n",
              "  [6, 1],\n",
              "  [2, 3]],\n",
              " [[1, 4],\n",
              "  [1, 3],\n",
              "  [3, 9],\n",
              "  [9, 10],\n",
              "  [5, 5],\n",
              "  [7, 4],\n",
              "  [10, 3],\n",
              "  [4, 6],\n",
              "  [1, 2],\n",
              "  [8, 1]],\n",
              " [[12, 4],\n",
              "  [1, 2],\n",
              "  [6, 1],\n",
              "  [11, 1],\n",
              "  [1, 3],\n",
              "  [5, 4],\n",
              "  [10, 2],\n",
              "  [4, 13],\n",
              "  [7, 3],\n",
              "  [2, 3]],\n",
              " [[1, 1],\n",
              "  [1, 3],\n",
              "  [4, 2],\n",
              "  [2, 7],\n",
              "  [1, 1],\n",
              "  [19, 4],\n",
              "  [4, 4],\n",
              "  [2, 7],\n",
              "  [5, 2],\n",
              "  [15, 3]],\n",
              " [[1, 4],\n",
              "  [2, 3],\n",
              "  [6, 1],\n",
              "  [3, 10],\n",
              "  [4, 1],\n",
              "  [6, 4],\n",
              "  [3, 2],\n",
              "  [4, 2],\n",
              "  [7, 2],\n",
              "  [4, 3]],\n",
              " [[2, 7],\n",
              "  [9, 9],\n",
              "  [2, 5],\n",
              "  [7, 13],\n",
              "  [4, 1],\n",
              "  [18, 4],\n",
              "  [3, 2],\n",
              "  [1, 17],\n",
              "  [15, 2],\n",
              "  [3, 9]],\n",
              " [[2, 4],\n",
              "  [1, 3],\n",
              "  [6, 1],\n",
              "  [9, 1],\n",
              "  [3, 5],\n",
              "  [5, 4],\n",
              "  [10, 10],\n",
              "  [4, 15],\n",
              "  [7, 4],\n",
              "  [2, 3]],\n",
              " [[1, 4],\n",
              "  [5, 3],\n",
              "  [5, 9],\n",
              "  [2, 7],\n",
              "  [4, 1],\n",
              "  [7, 4],\n",
              "  [10, 2],\n",
              "  [4, 10],\n",
              "  [7, 2],\n",
              "  [8, 3]],\n",
              " [[2, 4],\n",
              "  [1, 3],\n",
              "  [6, 1],\n",
              "  [2, 7],\n",
              "  [1, 5],\n",
              "  [5, 4],\n",
              "  [10, 2],\n",
              "  [4, 14],\n",
              "  [7, 4],\n",
              "  [3, 3]],\n",
              " [[6, 7],\n",
              "  [6, 1],\n",
              "  [9, 15],\n",
              "  [11, 17],\n",
              "  [1, 1],\n",
              "  [18, 4],\n",
              "  [1, 3],\n",
              "  [7, 5],\n",
              "  [13, 3],\n",
              "  [10, 6]],\n",
              " [[7, 4],\n",
              "  [2, 3],\n",
              "  [2, 1],\n",
              "  [10, 3],\n",
              "  [5, 1],\n",
              "  [6, 4],\n",
              "  [1, 1],\n",
              "  [4, 2],\n",
              "  [7, 12],\n",
              "  [5, 3]],\n",
              " [[1, 1],\n",
              "  [1, 3],\n",
              "  [6, 1],\n",
              "  [8, 6],\n",
              "  [5, 1],\n",
              "  [6, 4],\n",
              "  [7, 4],\n",
              "  [2, 7],\n",
              "  [5, 3],\n",
              "  [14, 2]],\n",
              " [[6, 7],\n",
              "  [8, 1],\n",
              "  [26, 9],\n",
              "  [9, 10],\n",
              "  [6, 1],\n",
              "  [7, 4],\n",
              "  [1, 3],\n",
              "  [7, 2],\n",
              "  [10, 13],\n",
              "  [8, 5]],\n",
              " [[5, 3],\n",
              "  [2, 3],\n",
              "  [6, 1],\n",
              "  [8, 6],\n",
              "  [1, 1],\n",
              "  [4, 4],\n",
              "  [1, 3],\n",
              "  [4, 5],\n",
              "  [7, 13],\n",
              "  [10, 3]],\n",
              " [[6, 7],\n",
              "  [1, 1],\n",
              "  [9, 18],\n",
              "  [11, 16],\n",
              "  [6, 3],\n",
              "  [10, 4],\n",
              "  [15, 10],\n",
              "  [7, 13],\n",
              "  [13, 3],\n",
              "  [27, 6]]]"
            ]
          },
          "metadata": {},
          "execution_count": 23
        }
      ],
      "source": [
        "bands = create_bands(signature_matrix, band_size)\n",
        "bands"
      ]
    },
    {
      "cell_type": "code",
      "execution_count": 24,
      "metadata": {
        "pycharm": {
          "name": "#%%\n"
        },
        "id": "YWWWT0UTiZqb"
      },
      "outputs": [],
      "source": [
        "def get_candidate_pairs(doc_index, bands):\n",
        "    candidateds_ids = []\n",
        "    for i in range(len(bands)):\n",
        "        if i == doc_index:\n",
        "            continue\n",
        "        current_band = bands[doc_index]\n",
        "        target_band = bands[i]\n",
        "        for current_row, target_row in zip(current_band, target_band):\n",
        "            if current_row == target_row:\n",
        "                candidateds_ids.append(i)\n",
        "                break\n",
        "\n",
        "    return candidateds_ids"
      ]
    },
    {
      "cell_type": "code",
      "execution_count": 25,
      "metadata": {
        "pycharm": {
          "name": "#%%\n"
        },
        "id": "DBReQOuJiZqb"
      },
      "outputs": [],
      "source": [
        "target_id = 2"
      ]
    },
    {
      "cell_type": "code",
      "execution_count": 26,
      "metadata": {
        "pycharm": {
          "name": "#%%\n"
        },
        "colab": {
          "base_uri": "https://localhost:8080/"
        },
        "id": "j1DdkXX5iZqb",
        "outputId": "6673d09b-e6ac-4863-cb18-e01a76beed90"
      },
      "outputs": [
        {
          "output_type": "execute_result",
          "data": {
            "text/plain": [
              "[1, 4, 5, 13, 19, 25, 34, 41, 45, 48, 49]"
            ]
          },
          "metadata": {},
          "execution_count": 26
        }
      ],
      "source": [
        "candidates = get_candidate_pairs(target_id, bands)\n",
        "candidates"
      ]
    },
    {
      "cell_type": "code",
      "execution_count": 27,
      "metadata": {
        "pycharm": {
          "name": "#%%\n"
        },
        "id": "onMiHEEKiZqc",
        "colab": {
          "base_uri": "https://localhost:8080/"
        },
        "outputId": "8835243e-8b13-4678-85d4-615c338b83b9"
      },
      "outputs": [
        {
          "output_type": "stream",
          "name": "stdout",
          "text": [
            "Target sentence\n",
            "The lazy dog is jumped over by a quick brown fox.\n"
          ]
        }
      ],
      "source": [
        "print(\"Target sentence\")\n",
        "print(documents[target_id])"
      ]
    },
    {
      "cell_type": "code",
      "execution_count": 28,
      "metadata": {
        "pycharm": {
          "name": "#%%\n"
        },
        "id": "8z6qqtEsiZqc",
        "colab": {
          "base_uri": "https://localhost:8080/"
        },
        "outputId": "c11e7f76-dc1e-4767-ac78-4373e32e1e99"
      },
      "outputs": [
        {
          "output_type": "stream",
          "name": "stdout",
          "text": [
            "Candidate sentences\n",
            "The quick brown fox jumps over the lazy dog.\n",
            "A lazy dog has a quick brown fox jumping over it.\n",
            "The quick brown fox leaps over the dog that is lazy.\n",
            "A quick brown fox is seen jumping over a lazy dog.\n",
            "The lazy dog is leaped over by a quick and brown fox.\n",
            "The quick brown fox is leaping over the lazy dog.\n",
            "The lazy dog is jumped over by a quick and brown-colored fox.\n",
            "The quick and brown fox is jumped over by the lazy dog.\n",
            "The quick brown fox jumps over the sleeping dog.\n",
            "A sleeping dog has a quick brown fox jumping over it.\n",
            "The quick brown fox leaps over the dog that is sleeping.\n"
          ]
        }
      ],
      "source": [
        "print(\"Candidate sentences\")\n",
        "for index in candidates:\n",
        "    print(documents[index])\n"
      ]
    },
    {
      "cell_type": "code",
      "execution_count": 34,
      "metadata": {
        "pycharm": {
          "name": "#%%\n"
        },
        "id": "8195GO02iZqc"
      },
      "outputs": [],
      "source": [
        "def get_topk_similar(trget_id, candidates, k):\n",
        "    \"\"\"\n",
        "\n",
        "    :param trget_id:\n",
        "    :param candidates:\n",
        "    :return: k most similar sentences from candidates to target sentence\n",
        "    \"\"\"\n",
        "    result = []\n",
        "    \n",
        "    #TODO-Task6: start your code\n",
        "\n",
        "    # Retrieve the signature vector for the target document\n",
        "    target_vector = signature_matrix[target_id]\n",
        "\n",
        "    # Initialize an empty list to store Jaccard similarity scores\n",
        "    similarities = []\n",
        "\n",
        "    # Iterate over the candidate documents\n",
        "    for candidate_id in candidates:\n",
        "        # Retrieve the signature vector for the candidate document\n",
        "        candidate_vector = signature_matrix[candidate_id]\n",
        "        # Compute the Jaccard similarity between the target and candidate vectors\n",
        "        s = jaccard(set(target_vector), set(candidate_vector))\n",
        "        # Append the similarity score to the list\n",
        "        similarities.append(s)\n",
        "\n",
        "    # Sort the similarity scores and get the indices of the top k candidates\n",
        "    top_k_indices = np.argsort(similarities)[-k:]\n",
        "\n",
        "    # Retrieve the indices of the top k candidates\n",
        "    result = [candidates[i] for i in top_k_indices]\n",
        "  \n",
        "    #end your code\n",
        "    return result"
      ]
    },
    {
      "cell_type": "code",
      "execution_count": 35,
      "metadata": {
        "pycharm": {
          "name": "#%%\n"
        },
        "id": "fOCyob8tiZqc",
        "colab": {
          "base_uri": "https://localhost:8080/"
        },
        "outputId": "b0a6fa5b-0d62-4802-8e45-eb8fd9c66596"
      },
      "outputs": [
        {
          "output_type": "stream",
          "name": "stdout",
          "text": [
            "Similar sentences:\n",
            "[19, 41, 45, 13, 1]\n"
          ]
        }
      ],
      "source": [
        "print('Similar sentences:')\n",
        "print(get_topk_similar(target_id, candidates, k=5))"
      ]
    }
  ],
  "metadata": {
    "colab": {
      "provenance": []
    },
    "kernelspec": {
      "display_name": "Python 3 (ipykernel)",
      "language": "python",
      "name": "python3"
    },
    "language_info": {
      "codemirror_mode": {
        "name": "ipython",
        "version": 3
      },
      "file_extension": ".py",
      "mimetype": "text/x-python",
      "name": "python",
      "nbconvert_exporter": "python",
      "pygments_lexer": "ipython3",
      "version": "3.10.8"
    },
    "vscode": {
      "interpreter": {
        "hash": "5fe10bf018ef3e697f9035d60bf60847932a12bface18908407fd371fe880db9"
      }
    }
  },
  "nbformat": 4,
  "nbformat_minor": 0
}